{
  "nbformat": 4,
  "nbformat_minor": 0,
  "metadata": {
    "colab": {
      "name": "Regression Model.ipynb",
      "provenance": [],
      "toc_visible": true,
      "authorship_tag": "ABX9TyMXzR2+FqpeTfWB9pKQFfUe"
    },
    "kernelspec": {
      "name": "python3",
      "display_name": "Python 3"
    },
    "language_info": {
      "name": "python"
    }
  },
  "cells": [
    {
      "cell_type": "markdown",
      "metadata": {
        "id": "hKuVJzUhRenf"
      },
      "source": [
        "# CRISP - DM Method\n",
        "\n",
        "- Barry -> Business understanding\n",
        "- Drove -> Data understanding\n",
        "- Directly to the -> Data prep\n",
        "- Medical -> Modelling\n",
        "- Emergency -> Evaluation\n",
        "- Department -> Deployment\n"
      ]
    },
    {
      "cell_type": "code",
      "metadata": {
        "id": "jDMXD7bQRai2",
        "colab": {
          "base_uri": "https://localhost:8080/",
          "height": 206
        },
        "outputId": "6e9cad3e-d5fa-4bc2-bb58-09571e345e13"
      },
      "source": [
        "import pandas as pd\n",
        "df = pd.read_csv('regression.csv')\n",
        "df.head()"
      ],
      "execution_count": 4,
      "outputs": [
        {
          "output_type": "execute_result",
          "data": {
            "text/html": [
              "<div>\n",
              "<style scoped>\n",
              "    .dataframe tbody tr th:only-of-type {\n",
              "        vertical-align: middle;\n",
              "    }\n",
              "\n",
              "    .dataframe tbody tr th {\n",
              "        vertical-align: top;\n",
              "    }\n",
              "\n",
              "    .dataframe thead th {\n",
              "        text-align: right;\n",
              "    }\n",
              "</style>\n",
              "<table border=\"1\" class=\"dataframe\">\n",
              "  <thead>\n",
              "    <tr style=\"text-align: right;\">\n",
              "      <th></th>\n",
              "      <th>Year</th>\n",
              "      <th>Month</th>\n",
              "      <th>Cost Centre</th>\n",
              "      <th>Account</th>\n",
              "      <th>Account Description</th>\n",
              "      <th>Account Type</th>\n",
              "      <th>Amount</th>\n",
              "    </tr>\n",
              "  </thead>\n",
              "  <tbody>\n",
              "    <tr>\n",
              "      <th>0</th>\n",
              "      <td>2019</td>\n",
              "      <td>Jan</td>\n",
              "      <td>CC100</td>\n",
              "      <td>1000000</td>\n",
              "      <td>Product Sales</td>\n",
              "      <td>Revenue</td>\n",
              "      <td>1344.051</td>\n",
              "    </tr>\n",
              "    <tr>\n",
              "      <th>1</th>\n",
              "      <td>2019</td>\n",
              "      <td>Jan</td>\n",
              "      <td>CC100</td>\n",
              "      <td>1000001</td>\n",
              "      <td>Licensing Revenue</td>\n",
              "      <td>Revenue</td>\n",
              "      <td>480.968</td>\n",
              "    </tr>\n",
              "    <tr>\n",
              "      <th>2</th>\n",
              "      <td>2019</td>\n",
              "      <td>Jan</td>\n",
              "      <td>CC100</td>\n",
              "      <td>1000002</td>\n",
              "      <td>Service Revenue</td>\n",
              "      <td>Revenue</td>\n",
              "      <td>650.820</td>\n",
              "    </tr>\n",
              "    <tr>\n",
              "      <th>3</th>\n",
              "      <td>2019</td>\n",
              "      <td>Jan</td>\n",
              "      <td>CC100</td>\n",
              "      <td>1000004</td>\n",
              "      <td>Fee Revenue</td>\n",
              "      <td>Revenue</td>\n",
              "      <td>339.360</td>\n",
              "    </tr>\n",
              "    <tr>\n",
              "      <th>4</th>\n",
              "      <td>2019</td>\n",
              "      <td>Jan</td>\n",
              "      <td>CC100</td>\n",
              "      <td>2000000</td>\n",
              "      <td>Cost of Good Sold</td>\n",
              "      <td>Expense</td>\n",
              "      <td>1125.328</td>\n",
              "    </tr>\n",
              "  </tbody>\n",
              "</table>\n",
              "</div>"
            ],
            "text/plain": [
              "   Year Month Cost Centre  Account Account Description Account Type    Amount\n",
              "0  2019   Jan       CC100  1000000       Product Sales      Revenue  1344.051\n",
              "1  2019   Jan       CC100  1000001   Licensing Revenue      Revenue   480.968\n",
              "2  2019   Jan       CC100  1000002     Service Revenue      Revenue   650.820\n",
              "3  2019   Jan       CC100  1000004         Fee Revenue      Revenue   339.360\n",
              "4  2019   Jan       CC100  2000000   Cost of Good Sold      Expense  1125.328"
            ]
          },
          "metadata": {
            "tags": []
          },
          "execution_count": 4
        }
      ]
    },
    {
      "cell_type": "code",
      "metadata": {
        "colab": {
          "base_uri": "https://localhost:8080/",
          "height": 206
        },
        "id": "C-wuDc4kPQjf",
        "outputId": "616f017c-1256-497d-c3fa-ac31e364be94"
      },
      "source": [
        "df.tail()"
      ],
      "execution_count": 5,
      "outputs": [
        {
          "output_type": "execute_result",
          "data": {
            "text/html": [
              "<div>\n",
              "<style scoped>\n",
              "    .dataframe tbody tr th:only-of-type {\n",
              "        vertical-align: middle;\n",
              "    }\n",
              "\n",
              "    .dataframe tbody tr th {\n",
              "        vertical-align: top;\n",
              "    }\n",
              "\n",
              "    .dataframe thead th {\n",
              "        text-align: right;\n",
              "    }\n",
              "</style>\n",
              "<table border=\"1\" class=\"dataframe\">\n",
              "  <thead>\n",
              "    <tr style=\"text-align: right;\">\n",
              "      <th></th>\n",
              "      <th>Year</th>\n",
              "      <th>Month</th>\n",
              "      <th>Cost Centre</th>\n",
              "      <th>Account</th>\n",
              "      <th>Account Description</th>\n",
              "      <th>Account Type</th>\n",
              "      <th>Amount</th>\n",
              "    </tr>\n",
              "  </thead>\n",
              "  <tbody>\n",
              "    <tr>\n",
              "      <th>4207</th>\n",
              "      <td>2021</td>\n",
              "      <td>Dec</td>\n",
              "      <td>CC302</td>\n",
              "      <td>2000005</td>\n",
              "      <td>Purchases</td>\n",
              "      <td>Expense</td>\n",
              "      <td>698.121</td>\n",
              "    </tr>\n",
              "    <tr>\n",
              "      <th>4208</th>\n",
              "      <td>2021</td>\n",
              "      <td>Dec</td>\n",
              "      <td>CC302</td>\n",
              "      <td>3000000</td>\n",
              "      <td>Cash at Bank</td>\n",
              "      <td>Asset</td>\n",
              "      <td>-282.056</td>\n",
              "    </tr>\n",
              "    <tr>\n",
              "      <th>4209</th>\n",
              "      <td>2021</td>\n",
              "      <td>Dec</td>\n",
              "      <td>CC302</td>\n",
              "      <td>3000001</td>\n",
              "      <td>Inventory</td>\n",
              "      <td>Asset</td>\n",
              "      <td>537.478</td>\n",
              "    </tr>\n",
              "    <tr>\n",
              "      <th>4210</th>\n",
              "      <td>2021</td>\n",
              "      <td>Dec</td>\n",
              "      <td>CC302</td>\n",
              "      <td>3000002</td>\n",
              "      <td>Accounts Receivable</td>\n",
              "      <td>Asset</td>\n",
              "      <td>1152.680</td>\n",
              "    </tr>\n",
              "    <tr>\n",
              "      <th>4211</th>\n",
              "      <td>2021</td>\n",
              "      <td>Dec</td>\n",
              "      <td>CC302</td>\n",
              "      <td>4000001</td>\n",
              "      <td>Accounts Payable</td>\n",
              "      <td>Liability</td>\n",
              "      <td>-1020.000</td>\n",
              "    </tr>\n",
              "  </tbody>\n",
              "</table>\n",
              "</div>"
            ],
            "text/plain": [
              "      Year Month Cost Centre  ...  Account Description Account Type    Amount\n",
              "4207  2021   Dec       CC302  ...            Purchases      Expense   698.121\n",
              "4208  2021   Dec       CC302  ...         Cash at Bank        Asset  -282.056\n",
              "4209  2021   Dec       CC302  ...            Inventory        Asset   537.478\n",
              "4210  2021   Dec       CC302  ...  Accounts Receivable        Asset  1152.680\n",
              "4211  2021   Dec       CC302  ...     Accounts Payable    Liability -1020.000\n",
              "\n",
              "[5 rows x 7 columns]"
            ]
          },
          "metadata": {
            "tags": []
          },
          "execution_count": 5
        }
      ]
    },
    {
      "cell_type": "code",
      "metadata": {
        "colab": {
          "base_uri": "https://localhost:8080/"
        },
        "id": "v0jPShJqP6DG",
        "outputId": "4dff0c19-a2ef-4951-830b-3f560d05e107"
      },
      "source": [
        "df.info()"
      ],
      "execution_count": 6,
      "outputs": [
        {
          "output_type": "stream",
          "text": [
            "<class 'pandas.core.frame.DataFrame'>\n",
            "RangeIndex: 4212 entries, 0 to 4211\n",
            "Data columns (total 7 columns):\n",
            " #   Column               Non-Null Count  Dtype  \n",
            "---  ------               --------------  -----  \n",
            " 0   Year                 4212 non-null   int64  \n",
            " 1   Month                4212 non-null   object \n",
            " 2   Cost Centre          4212 non-null   object \n",
            " 3   Account              4212 non-null   int64  \n",
            " 4   Account Description  4212 non-null   object \n",
            " 5   Account Type         4212 non-null   object \n",
            " 6   Amount               4212 non-null   float64\n",
            "dtypes: float64(1), int64(2), object(4)\n",
            "memory usage: 230.5+ KB\n"
          ],
          "name": "stdout"
        }
      ]
    },
    {
      "cell_type": "code",
      "metadata": {
        "colab": {
          "base_uri": "https://localhost:8080/"
        },
        "id": "BVwVkbaDQNi7",
        "outputId": "eb834182-a4bc-4918-caaf-473ecb5996a5"
      },
      "source": [
        "df.columns"
      ],
      "execution_count": 8,
      "outputs": [
        {
          "output_type": "execute_result",
          "data": {
            "text/plain": [
              "Index(['Year', 'Month', 'Cost Centre', 'Account', 'Account Description',\n",
              "       'Account Type', 'Amount'],\n",
              "      dtype='object')"
            ]
          },
          "metadata": {
            "tags": []
          },
          "execution_count": 8
        }
      ]
    },
    {
      "cell_type": "code",
      "metadata": {
        "colab": {
          "base_uri": "https://localhost:8080/"
        },
        "id": "-_CJUAISQ-gM",
        "outputId": "b3a4ad99-89cf-441e-ef59-c868cbf0ebc9"
      },
      "source": [
        "for col in df.columns:\n",
        "  len_ = df[col].unique()\n",
        "  print(f'{col}, length:{len(len_)} -> {len_}\\n')"
      ],
      "execution_count": 18,
      "outputs": [
        {
          "output_type": "stream",
          "text": [
            "Year, length:3 -> [2019 2020 2021]\n",
            "\n",
            "Month, length:12 -> ['Jan' 'Feb' 'Mar' 'Apr' 'May' 'Jun' 'Jul' 'Aug' 'Sep' 'Oct' 'Nov' 'Dec']\n",
            "\n",
            "Cost Centre, length:9 -> ['CC100' 'CC101' 'CC102' 'CC200' 'CC201' 'CC202' 'CC300' 'CC301' 'CC302']\n",
            "\n",
            "Account, length:13 -> [1000000 1000001 1000002 1000004 2000000 2000001 2000002 2000003 2000005\n",
            " 3000000 3000001 3000002 4000001]\n",
            "\n",
            "Account Description, length:13 -> ['Product Sales' 'Licensing Revenue' 'Service Revenue' 'Fee Revenue'\n",
            " 'Cost of Good Sold' 'Staff Expenses' 'Technology Expenses'\n",
            " 'Property Expenses' 'Purchases' 'Cash at Bank' 'Inventory'\n",
            " 'Accounts Receivable' 'Accounts Payable']\n",
            "\n",
            "Account Type, length:4 -> ['Revenue' 'Expense' 'Asset' 'Liability']\n",
            "\n",
            "Amount, length:3956 -> [1344.051  480.968  650.82  ... -282.056  537.478 1152.68 ]\n",
            "\n"
          ],
          "name": "stdout"
        }
      ]
    },
    {
      "cell_type": "code",
      "metadata": {
        "colab": {
          "base_uri": "https://localhost:8080/",
          "height": 175
        },
        "id": "UegNvK8SRNPO",
        "outputId": "cc4e9f45-bc15-4545-ae36-787eadfb92b5"
      },
      "source": [
        "df.describe(include='object')"
      ],
      "execution_count": 19,
      "outputs": [
        {
          "output_type": "execute_result",
          "data": {
            "text/html": [
              "<div>\n",
              "<style scoped>\n",
              "    .dataframe tbody tr th:only-of-type {\n",
              "        vertical-align: middle;\n",
              "    }\n",
              "\n",
              "    .dataframe tbody tr th {\n",
              "        vertical-align: top;\n",
              "    }\n",
              "\n",
              "    .dataframe thead th {\n",
              "        text-align: right;\n",
              "    }\n",
              "</style>\n",
              "<table border=\"1\" class=\"dataframe\">\n",
              "  <thead>\n",
              "    <tr style=\"text-align: right;\">\n",
              "      <th></th>\n",
              "      <th>Month</th>\n",
              "      <th>Cost Centre</th>\n",
              "      <th>Account Description</th>\n",
              "      <th>Account Type</th>\n",
              "    </tr>\n",
              "  </thead>\n",
              "  <tbody>\n",
              "    <tr>\n",
              "      <th>count</th>\n",
              "      <td>4212</td>\n",
              "      <td>4212</td>\n",
              "      <td>4212</td>\n",
              "      <td>4212</td>\n",
              "    </tr>\n",
              "    <tr>\n",
              "      <th>unique</th>\n",
              "      <td>12</td>\n",
              "      <td>9</td>\n",
              "      <td>13</td>\n",
              "      <td>4</td>\n",
              "    </tr>\n",
              "    <tr>\n",
              "      <th>top</th>\n",
              "      <td>Aug</td>\n",
              "      <td>CC101</td>\n",
              "      <td>Technology Expenses</td>\n",
              "      <td>Expense</td>\n",
              "    </tr>\n",
              "    <tr>\n",
              "      <th>freq</th>\n",
              "      <td>351</td>\n",
              "      <td>468</td>\n",
              "      <td>324</td>\n",
              "      <td>1620</td>\n",
              "    </tr>\n",
              "  </tbody>\n",
              "</table>\n",
              "</div>"
            ],
            "text/plain": [
              "       Month Cost Centre  Account Description Account Type\n",
              "count   4212        4212                 4212         4212\n",
              "unique    12           9                   13            4\n",
              "top      Aug       CC101  Technology Expenses      Expense\n",
              "freq     351         468                  324         1620"
            ]
          },
          "metadata": {
            "tags": []
          },
          "execution_count": 19
        }
      ]
    },
    {
      "cell_type": "code",
      "metadata": {
        "colab": {
          "base_uri": "https://localhost:8080/",
          "height": 300
        },
        "id": "SoWFhd1BS-xr",
        "outputId": "48ae8c97-5129-4b36-884e-8e3e8f4aee2c"
      },
      "source": [
        "df.describe()"
      ],
      "execution_count": 20,
      "outputs": [
        {
          "output_type": "execute_result",
          "data": {
            "text/html": [
              "<div>\n",
              "<style scoped>\n",
              "    .dataframe tbody tr th:only-of-type {\n",
              "        vertical-align: middle;\n",
              "    }\n",
              "\n",
              "    .dataframe tbody tr th {\n",
              "        vertical-align: top;\n",
              "    }\n",
              "\n",
              "    .dataframe thead th {\n",
              "        text-align: right;\n",
              "    }\n",
              "</style>\n",
              "<table border=\"1\" class=\"dataframe\">\n",
              "  <thead>\n",
              "    <tr style=\"text-align: right;\">\n",
              "      <th></th>\n",
              "      <th>Year</th>\n",
              "      <th>Account</th>\n",
              "      <th>Amount</th>\n",
              "    </tr>\n",
              "  </thead>\n",
              "  <tbody>\n",
              "    <tr>\n",
              "      <th>count</th>\n",
              "      <td>4212.000000</td>\n",
              "      <td>4.212000e+03</td>\n",
              "      <td>4212.000000</td>\n",
              "    </tr>\n",
              "    <tr>\n",
              "      <th>mean</th>\n",
              "      <td>2020.000000</td>\n",
              "      <td>2.076925e+06</td>\n",
              "      <td>476.470421</td>\n",
              "    </tr>\n",
              "    <tr>\n",
              "      <th>std</th>\n",
              "      <td>0.816594</td>\n",
              "      <td>9.167528e+05</td>\n",
              "      <td>477.296234</td>\n",
              "    </tr>\n",
              "    <tr>\n",
              "      <th>min</th>\n",
              "      <td>2019.000000</td>\n",
              "      <td>1.000000e+06</td>\n",
              "      <td>-1020.000000</td>\n",
              "    </tr>\n",
              "    <tr>\n",
              "      <th>25%</th>\n",
              "      <td>2019.000000</td>\n",
              "      <td>1.000004e+06</td>\n",
              "      <td>268.044500</td>\n",
              "    </tr>\n",
              "    <tr>\n",
              "      <th>50%</th>\n",
              "      <td>2020.000000</td>\n",
              "      <td>2.000002e+06</td>\n",
              "      <td>512.998500</td>\n",
              "    </tr>\n",
              "    <tr>\n",
              "      <th>75%</th>\n",
              "      <td>2021.000000</td>\n",
              "      <td>3.000000e+06</td>\n",
              "      <td>755.960250</td>\n",
              "    </tr>\n",
              "    <tr>\n",
              "      <th>max</th>\n",
              "      <td>2021.000000</td>\n",
              "      <td>4.000001e+06</td>\n",
              "      <td>2378.880000</td>\n",
              "    </tr>\n",
              "  </tbody>\n",
              "</table>\n",
              "</div>"
            ],
            "text/plain": [
              "              Year       Account       Amount\n",
              "count  4212.000000  4.212000e+03  4212.000000\n",
              "mean   2020.000000  2.076925e+06   476.470421\n",
              "std       0.816594  9.167528e+05   477.296234\n",
              "min    2019.000000  1.000000e+06 -1020.000000\n",
              "25%    2019.000000  1.000004e+06   268.044500\n",
              "50%    2020.000000  2.000002e+06   512.998500\n",
              "75%    2021.000000  3.000000e+06   755.960250\n",
              "max    2021.000000  4.000001e+06  2378.880000"
            ]
          },
          "metadata": {
            "tags": []
          },
          "execution_count": 20
        }
      ]
    },
    {
      "cell_type": "code",
      "metadata": {
        "colab": {
          "base_uri": "https://localhost:8080/"
        },
        "id": "OEO11P-MTElo",
        "outputId": "612fca6c-dad3-4e81-a96d-dd3c8a3e9579"
      },
      "source": [
        "df.dtypes"
      ],
      "execution_count": 21,
      "outputs": [
        {
          "output_type": "execute_result",
          "data": {
            "text/plain": [
              "Year                     int64\n",
              "Month                   object\n",
              "Cost Centre             object\n",
              "Account                  int64\n",
              "Account Description     object\n",
              "Account Type            object\n",
              "Amount                 float64\n",
              "dtype: object"
            ]
          },
          "metadata": {
            "tags": []
          },
          "execution_count": 21
        }
      ]
    },
    {
      "cell_type": "markdown",
      "metadata": {
        "id": "5l7niAX_Tpbd"
      },
      "source": [
        "## Data visualize"
      ]
    },
    {
      "cell_type": "code",
      "metadata": {
        "id": "KjdAazdQTQqD"
      },
      "source": [
        "from matplotlib import pyplot as plt\n",
        "import seaborn as sns"
      ],
      "execution_count": 22,
      "outputs": []
    },
    {
      "cell_type": "code",
      "metadata": {
        "colab": {
          "base_uri": "https://localhost:8080/",
          "height": 367
        },
        "id": "Py4m-dPbT7Cr",
        "outputId": "eff8d5b8-8c19-48c0-d82d-9f543d6d23f8"
      },
      "source": [
        "#violin plot\n",
        "plt.figure(figsize=(15,5))\n",
        "sns.violinplot(x='Account Type', y='Amount', data=df).set_title('Account Types')"
      ],
      "execution_count": 30,
      "outputs": [
        {
          "output_type": "execute_result",
          "data": {
            "text/plain": [
              "Text(0.5, 1.0, 'Account Types')"
            ]
          },
          "metadata": {
            "tags": []
          },
          "execution_count": 30
        },
        {
          "output_type": "display_data",
          "data": {
            "image/png": "[encoded data removed]",
            "text/plain": [
              "<Figure size 1080x360 with 1 Axes>"
            ]
          },
          "metadata": {
            "tags": [],
            "needs_background": "light"
          }
        }
      ]
    },
    {
      "cell_type": "code",
      "metadata": {
        "id": "YVUh_UHgUBAa"
      },
      "source": [
        ""
      ],
      "execution_count": null,
      "outputs": []
    }
  ]
}